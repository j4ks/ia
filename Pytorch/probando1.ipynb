{
 "cells": [
  {
   "cell_type": "code",
   "execution_count": 10,
   "metadata": {},
   "outputs": [
    {
     "data": {
      "image/png": "[encoded data removed]",
      "text/plain": [
       "<Figure size 432x288 with 1 Axes>"
      ]
     },
     "metadata": {
      "needs_background": "light"
     },
     "output_type": "display_data"
    }
   ],
   "source": [
    "## The usual imports\n",
    "import torch\n",
    "import torch.nn as nn\n",
    "import matplotlib.pyplot as plt\n",
    "\n",
    "## our data in tensor form\n",
    "z = torch.cuda.FloatTensor([[-1.0],  [0.0], [1.0], [2.0], [3.0], [4.0]])\n",
    "y = torch.cuda.FloatTensor([[-3.0], [-1.0], [1.0], [3.0], [5.0], [7.0]])\n",
    "x = torch.arange(-10, 10, 0.1)\n",
    "\n",
    "a = torch.rand(4,5)\n",
    "\n",
    "def sigmoid(a):\n",
    "    return 1/(1+torch.exp(-a))\n",
    "\n",
    "def derive(f):\n",
    "    delta=0.001\n",
    "    def grad_core(x):\n",
    "        return (f(x+delta)-f(x))/delta\n",
    "    return grad_core\n",
    "\n",
    "d_sigmoid = derive(sigmoid)\n",
    "#plt.plot(z, sigmoid(z))\n",
    "plt.plot(d_sigmoid(x))\n",
    "\n",
    "plt.show()\n",
    "## Neural network with 1 hidden layer\n",
    "layer1 = nn.Linear(1,1, bias=True)\n",
    "\n",
    "## loss function\n",
    "criterion = nn.L1Loss()\n",
    "\n",
    "## optimizer algorithm\n",
    "optimizer = torch.optim.SGD(layer1.parameters(), lr=0.01)\n",
    "\n",
    "## training\n"
   ]
  },
  {
   "cell_type": "code",
   "execution_count": 17,
   "metadata": {},
   "outputs": [
    {
     "name": "stdout",
     "output_type": "stream",
     "text": [
      "tensor([[8, 9, 0, 3],\n",
      "        [1, 2, 2, 9],\n",
      "        [5, 9, 7, 3],\n",
      "        [8, 0, 3, 5]])\n",
      "tensor([[7],\n",
      "        [8],\n",
      "        [7],\n",
      "        [8]])\n",
      "tensor([[15, 16,  7, 10],\n",
      "        [ 9, 10, 10, 17],\n",
      "        [12, 16, 14, 10],\n",
      "        [16,  8, 11, 13]])\n"
     ]
    }
   ],
   "source": [
    "#SUMA DE MATRICES DE DISTINTO TAMAÑO\n",
    "\n",
    "a = torch.randint(0,10,(4,4))\n",
    "b = torch.randint(0, 10, (4,1))\n",
    "print(a)\n",
    "print(b)\n",
    "print(a + b)\n",
    "\n"
   ]
  },
  {
   "cell_type": "code",
   "execution_count": null,
   "metadata": {},
   "outputs": [
    {
     "name": "stdout",
     "output_type": "stream",
     "text": [
      "tensor([[2],\n",
      "        [4],\n",
      "        [0],\n",
      "        [3]])\n",
      "tensor([[5, 0, 4, 8]])\n",
      "tensor([[10,  0,  8, 16],\n",
      "        [20,  0, 16, 32],\n",
      "        [ 0,  0,  0,  0],\n",
      "        [15,  0, 12, 24]])\n"
     ]
    }
   ],
   "source": [
    "#PRODUCTO DE MATRICES DE DISTINTO TAMAÑO\n",
    "a = torch.randint(0, 10, (4,1))\n",
    "b = torch.randint(0, 10, (1,4))\n",
    "print(a)\n",
    "print(b)\n",
    "print(a @ b)"
   ]
  },
  {
   "cell_type": "code",
   "execution_count": null,
   "metadata": {},
   "outputs": [],
   "source": [
    "#EJEMPLO MAS COPADO\n",
    "a = torch.tensor([4.0], dtype=torch.float, requires_grad=True)\n",
    "b = torch.tensor([3.0], dtype=torch.float, requires_grad=True)\n",
    "c = a*b**2\n",
    "d = 3*b\n",
    "\n",
    "y = c + d\n",
    "y.backward()\n"
   ]
  },
  {
   "cell_type": "code",
   "execution_count": null,
   "metadata": {},
   "outputs": [
    {
     "name": "stdout",
     "output_type": "stream",
     "text": [
      "tensor([9.])\n",
      "tensor([27.])\n",
      "<bound method Tensor.backward of tensor([45.], grad_fn=<AddBackward0>)>\n"
     ]
    }
   ],
   "source": [
    "print(a.grad)\n",
    "print(b.grad)\n",
    "print(y.backward)\n",
    "\n"
   ]
  },
  {
   "cell_type": "code",
   "execution_count": null,
   "metadata": {},
   "outputs": [
    {
     "data": {
      "text/plain": [
       "device(type='cpu')"
      ]
     },
     "execution_count": 50,
     "metadata": {},
     "output_type": "execute_result"
    }
   ],
   "source": [
    "a.device\n",
    "b.device\n"
   ]
  },
  {
   "cell_type": "code",
   "execution_count": 30,
   "metadata": {},
   "outputs": [
    {
     "data": {
      "text/plain": [
       "(6, 1)"
      ]
     },
     "execution_count": 30,
     "metadata": {},
     "output_type": "execute_result"
    }
   ],
   "source": [
    "torch.cuda.is_available()\n",
    "\n",
    "torch.cuda.get_device_capability()"
   ]
  }
 ],
 "metadata": {
  "kernelspec": {
   "display_name": "Python 3",
   "language": "python",
   "name": "python3"
  },
  "language_info": {
   "codemirror_mode": {
    "name": "ipython",
    "version": 3
   },
   "file_extension": ".py",
   "mimetype": "text/x-python",
   "name": "python",
   "nbconvert_exporter": "python",
   "pygments_lexer": "ipython3",
   "version": "3.10.2"
  },
  "orig_nbformat": 4
 },
 "nbformat": 4,
 "nbformat_minor": 2
}
